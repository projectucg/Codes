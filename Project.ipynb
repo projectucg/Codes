{
 "cells": [
  {
   "cell_type": "code",
   "execution_count": 6,
   "metadata": {},
   "outputs": [],
   "source": [
    "name=[]\n",
    "address=[]\n",
    "Class=[]\n",
    "Math=[]\n",
    "Science=[]\n",
    "English=[]\n",
    "Dutch=[]\n",
    "Arts=[]\n",
    "for i,j,k,l,m,n,o,p in zip(name,address,Class,Math,Science,English,Dutch,Arts):\n",
    "    print(i,j,k,l,m,n,o)"
   ]
  },
  {
   "cell_type": "code",
   "execution_count": 7,
   "metadata": {},
   "outputs": [
    {
     "name": "stdin",
     "output_type": "stream",
     "text": [
      "enter student name: Margot\n",
      "enter student address: Frascati\n",
      "enter class: 6\n",
      "enter math grade: 7\n",
      "enter science grade: 5\n",
      "enter english grade: 6\n",
      "enter dutch grade: 7\n",
      "enter Arts grade: 7\n"
     ]
    }
   ],
   "source": [
    "def adding_a_record(name,address,Class,Math,Science,English,Dutch,Arts):\n",
    "    name.append(input(\"enter student name:\"))\n",
    "    address.append(input(\"enter student address:\"))\n",
    "    Class.append(input(\"enter class:\"))\n",
    "    Math.append(input(\"enter math grade:\"))\n",
    "    Science.append(input(\"enter science grade:\"))\n",
    "    English.append(input(\"enter english grade:\"))\n",
    "    Dutch.append(input(\"enter dutch grade:\"))\n",
    "    Arts.append(input(\"enter Arts grade:\"))\n",
    "    \n",
    "adding_a_record(name,address,Class,Math,Science,English,Dutch,Arts) \n"
   ]
  },
  {
   "cell_type": "code",
   "execution_count": null,
   "metadata": {},
   "outputs": [],
   "source": [
    "for i,j,k,l,m,n,o,p in zip(name,address,Class,Math,Science,English,Dutch,Arts):\n",
    "    print(i,j,k,l,m,n,o,p)"
   ]
  },
  {
   "cell_type": "code",
   "execution_count": null,
   "metadata": {},
   "outputs": [],
   "source": [
    "def deleting_a_record(name,address,Class,Math,Science,English,Dutch,Arts):\n",
    "    name.remove(input(\"enter name:\"))\n",
    "    \n",
    "deleting_a_record(name,address,Class,Math,Science,English,Dutch,Arts)"
   ]
  },
  {
   "cell_type": "code",
   "execution_count": 21,
   "metadata": {},
   "outputs": [],
   "source": [
    "for i,j,k,l,m,n,o,p in zip(name,address,Class,Math,Science,English,Dutch,Arts):\n",
    "    print(i,j,k,l,m,n,o,p)"
   ]
  },
  {
   "cell_type": "code",
   "execution_count": null,
   "metadata": {},
   "outputs": [],
   "source": [
    "print(\"-----Student record- Option terminal-----\")\n",
    "\n",
    "x=float(input(\"->Type 1, if you want to add a new record\"\n",
    "       \"  ->Type 2, if you want to edit a record\"\n",
    "      \"   ->Type 3 if you want to delete a record\"\n",
    "      \"   ->Type 4 if you want to search a student\"))\n",
    "if x==1:\n",
    "    adding_a_record(name,address,Class,Math,Science,English,Dutch,Arts)\n",
    "if x==3:\n",
    "    deleting_a_record(name,address,Class,Math,Science,English,Dutch,Arts)\n",
    "else:\n",
    "    print(\"no command saved for entered number\")    \n",
    "\n",
    "print(x)"
   ]
  },
  {
   "cell_type": "code",
   "execution_count": null,
   "metadata": {},
   "outputs": [],
   "source": []
  },
  {
   "cell_type": "code",
   "execution_count": null,
   "metadata": {},
   "outputs": [],
   "source": [
    "To do:\n",
    "    edit student record\n",
    "    search for student record\n",
    "    sum, average of student \n",
    "    average for students in the same class, show who has the highest average"
   ]
  },
  {
   "cell_type": "code",
   "execution_count": null,
   "metadata": {},
   "outputs": [],
   "source": []
  }
 ],
 "metadata": {
  "kernelspec": {
   "display_name": "Python 3",
   "language": "python",
   "name": "python3"
  },
  "language_info": {
   "codemirror_mode": {
    "name": "ipython",
    "version": 3
   },
   "file_extension": ".py",
   "mimetype": "text/x-python",
   "name": "python",
   "nbconvert_exporter": "python",
   "pygments_lexer": "ipython3",
   "version": "3.7.4"
  }
 },
 "nbformat": 4,
 "nbformat_minor": 4
}
